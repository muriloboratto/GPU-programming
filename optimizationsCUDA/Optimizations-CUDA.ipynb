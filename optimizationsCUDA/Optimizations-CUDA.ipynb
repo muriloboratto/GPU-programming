{
 "cells": [
  {
   "cell_type": "markdown",
   "metadata": {
    "id": "xXATwZ8VxZG7"
   },
   "source": [
    "# OPTIMIZATIONS CUDA\n",
    "\n",
    " Murilo Boratto$^1$\n",
    "\n",
    "$^1$ SENAI CIMATEC <br />\n",
    "     &nbsp;&nbsp;&nbsp; Supercomputing Center<br />"
   ]
  },
  {
   "cell_type": "markdown",
   "metadata": {
    "id": "MyB9gzUjSGKc"
   },
   "source": [
    "## Enabled GPU in Colab"
   ]
  },
  {
   "cell_type": "markdown",
   "metadata": {
    "id": "sTFR6-5Ja64x"
   },
   "source": [
    "**Go to Menu > Runtime > Change runtime > V100 GPU**"
   ]
  },
  {
   "cell_type": "markdown",
   "metadata": {
    "id": "0pfFUL-maxh4"
   },
   "source": [
    "## Check if GPU is running or not, run the following command"
   ]
  },
  {
   "cell_type": "code",
   "execution_count": 1,
   "metadata": {
    "colab": {
     "base_uri": "https://localhost:8080/"
    },
    "executionInfo": {
     "elapsed": 19,
     "status": "ok",
     "timestamp": 1705310764673,
     "user": {
      "displayName": "Murilo Boratto",
      "userId": "13998345321799991370"
     },
     "user_tz": -60
    },
    "id": "cIWeteLFbMdM",
    "outputId": "3f7bc937-89b9-402c-e570-4e5e5f343d1b"
   },
   "outputs": [
    {
     "name": "stdout",
     "output_type": "stream",
     "text": [
      "Mon Jan 15 09:26:03 2024       \n",
      "+---------------------------------------------------------------------------------------+\n",
      "| NVIDIA-SMI 535.104.05             Driver Version: 535.104.05   CUDA Version: 12.2     |\n",
      "|-----------------------------------------+----------------------+----------------------+\n",
      "| GPU  Name                 Persistence-M | Bus-Id        Disp.A | Volatile Uncorr. ECC |\n",
      "| Fan  Temp   Perf          Pwr:Usage/Cap |         Memory-Usage | GPU-Util  Compute M. |\n",
      "|                                         |                      |               MIG M. |\n",
      "|=========================================+======================+======================|\n",
      "|   0  Tesla V100-SXM2-16GB           Off | 00000000:00:04.0 Off |                    0 |\n",
      "| N/A   32C    P0              23W / 300W |      0MiB / 16384MiB |      0%      Default |\n",
      "|                                         |                      |                  N/A |\n",
      "+-----------------------------------------+----------------------+----------------------+\n",
      "                                                                                         \n",
      "+---------------------------------------------------------------------------------------+\n",
      "| Processes:                                                                            |\n",
      "|  GPU   GI   CI        PID   Type   Process name                            GPU Memory |\n",
      "|        ID   ID                                                             Usage      |\n",
      "|=======================================================================================|\n",
      "|  No running processes found                                                           |\n",
      "+---------------------------------------------------------------------------------------+\n"
     ]
    }
   ],
   "source": [
    "!nvidia-smi"
   ]
  },
  {
   "cell_type": "markdown",
   "metadata": {
    "id": "cqclQCVqjE3u"
   },
   "source": [
    "## Check if nvcc compiler is capable of using GPU"
   ]
  },
  {
   "cell_type": "code",
   "execution_count": 32,
   "metadata": {
    "colab": {
     "base_uri": "https://localhost:8080/"
    },
    "executionInfo": {
     "elapsed": 427,
     "status": "ok",
     "timestamp": 1705312602384,
     "user": {
      "displayName": "Murilo Boratto",
      "userId": "13998345321799991370"
     },
     "user_tz": -60
    },
    "id": "sFT0dpBBjNs1",
    "outputId": "3c293a64-b164-4769-9f21-9d1dc1c635eb"
   },
   "outputs": [
    {
     "name": "stdout",
     "output_type": "stream",
     "text": [
      "nvcc: NVIDIA (R) Cuda compiler driver\n",
      "Copyright (c) 2005-2023 NVIDIA Corporation\n",
      "Built on Tue_Aug_15_22:02:13_PDT_2023\n",
      "Cuda compilation tools, release 12.2, V12.2.140\n",
      "Build cuda_12.2.r12.2/compiler.33191640_0\n"
     ]
    }
   ],
   "source": [
    "!nvcc --version"
   ]
  },
  {
   "cell_type": "markdown",
   "metadata": {
    "id": "ZqGTiMLEbEdx"
   },
   "source": [
    "## Optimizations Matrix Multiply Benchmark"
   ]
  },
  {
   "cell_type": "markdown",
   "metadata": {
    "id": "823d_hqHqTdN",
    "tags": []
   },
   "source": [
    "### The workload is divided in threads manually using CUDA"
   ]
  },
  {
   "cell_type": "code",
   "execution_count": 7,
   "metadata": {
    "colab": {
     "base_uri": "https://localhost:8080/"
    },
    "executionInfo": {
     "elapsed": 351,
     "status": "ok",
     "timestamp": 1705310971070,
     "user": {
      "displayName": "Murilo Boratto",
      "userId": "13998345321799991370"
     },
     "user_tz": -60
    },
    "id": "2hTtR30ikC5N",
    "outputId": "38e7c49f-3cc2-4b01-8850-495d58744a7f",
    "tags": []
   },
   "outputs": [
    {
     "name": "stdout",
     "output_type": "stream",
     "text": [
      "Writing mm.cu\n"
     ]
    }
   ],
   "source": [
    "%%writefile mm.cu\n",
    "#include <cuda.h>\n",
    "#include <stdio.h>\n",
    "#include <stdlib.h>\n",
    "#include <omp.h>\n",
    "\n",
    "__global__ void kernel(int *A, int *B, int *C, int size)\n",
    "{\n",
    "  int i = blockIdx.x * blockDim.x + threadIdx.x;\n",
    "  int j = blockIdx.y * blockDim.y + threadIdx.y;\n",
    "\n",
    "  if((i < size) && (j < size))\n",
    "    for(int k = 0; k < size; k++)\n",
    "       C[i * size + j] += A[i * size + k] * B[k * size + j];\n",
    "\n",
    "}\n",
    "\n",
    "void initializeMatrix(int *A, int size)\n",
    "{\n",
    "  for(int i = 0; i < size; i++)\n",
    "    for(int j = 0; j < size; j++)\n",
    "      A[i * size + j] = rand() % (10 - 1) * 1;\n",
    "}\n",
    "\n",
    "void printMatrix(int *A, int size)\n",
    "{\n",
    "  for(int i = 0; i < size; i++){\n",
    "    for(int j = 0; j < size; j++)\n",
    "      printf(\"%d\\t\", A[i * size + j]);\n",
    "    printf(\"\\n\");\n",
    "  }\n",
    "  printf(\"\\n\");\n",
    "}\n",
    "\n",
    "int main(int argc, char **argv)\n",
    "{\n",
    "  if (argc < 3)\n",
    "  {\n",
    "    printf(\"%s [SIZE] [BLOCKSIZE]\\n\", argv[0]);\n",
    "    exit(-1);\n",
    "  }\n",
    "\n",
    "  int n = atoi(argv[1]);\n",
    "  int blockSize = atoi(argv[2]);\n",
    "  double t1, t2;\n",
    "\n",
    " //Memory Allocation in the Host\n",
    "  int  *A = (int *) malloc (sizeof(int)*n*n);\n",
    "  int  *B = (int *) malloc (sizeof(int)*n*n);\n",
    "  int  *C = (int *) malloc (sizeof(int)*n*n);\n",
    "\n",
    "  initializeMatrix(A, n);\n",
    "  initializeMatrix(B, n);\n",
    "\n",
    " //printMatrix(A, n);\n",
    " //printMatrix(B, n);\n",
    " //printMatrix(C, n);\n",
    "\n",
    " // Memory Allocation in the Device\n",
    "  int *d_A, *d_B, *d_C;\n",
    "  cudaMalloc((void **) &d_A, n * n * sizeof(int) ) ;\n",
    "  cudaMalloc((void **) &d_B, n * n * sizeof(int) ) ;\n",
    "  cudaMalloc((void **) &d_C, n * n * sizeof(int) ) ;\n",
    "\n",
    "  t1 = omp_get_wtime();\n",
    "\n",
    " // Copy of data from host to device\n",
    "  cudaMemcpy( d_A, A, n * n * sizeof(int), cudaMemcpyHostToDevice ) ;\n",
    "  cudaMemcpy( d_B, B, n * n * sizeof(int), cudaMemcpyHostToDevice ) ;\n",
    "  cudaMemcpy( d_C, C, n * n * sizeof(int), cudaMemcpyHostToDevice ) ;\n",
    "\n",
    " // 2D Computational Grid\n",
    "  dim3 dimGrid( (int) ceil( (float) n / (float) blockSize ), (int) ceil( (float) n / (float) blockSize ) );\n",
    "  dim3 dimBlock( blockSize, blockSize);\n",
    "\n",
    "            kernel<<<dimGrid, dimBlock>>>(A, B, C, n);\n",
    "\n",
    " // Copy of data from device to host\n",
    "  cudaMemcpy( C, d_C, n * n * sizeof(float), cudaMemcpyDeviceToHost ) ;\n",
    "\n",
    "  t2 = omp_get_wtime();\n",
    "\n",
    "  printf(\"%d\\t%f\\n\", n, t2-t1);\n",
    "\n",
    " //printMatrix(A, n);\n",
    " //printMatrix(B, n);\n",
    " //printMatrix(C, n);\n",
    "\n",
    "// Memory Allocation in the Device\n",
    " cudaFree(d_A) ;\n",
    " cudaFree(d_B) ;\n",
    " cudaFree(d_C) ;\n",
    "\n",
    "// Memory Allocation in the Host\n",
    " free(A);\n",
    " free(B);\n",
    " free(C);\n",
    "\n",
    " return 0;\n",
    "}"
   ]
  },
  {
   "cell_type": "code",
   "execution_count": 8,
   "metadata": {
    "executionInfo": {
     "elapsed": 2803,
     "status": "ok",
     "timestamp": 1705310979667,
     "user": {
      "displayName": "Murilo Boratto",
      "userId": "13998345321799991370"
     },
     "user_tz": -60
    },
    "id": "FTVBh76aSywY",
    "tags": []
   },
   "outputs": [],
   "source": [
    "!nvcc mm.cu -o mm -Xcompiler -fopenmp -O3"
   ]
  },
  {
   "cell_type": "code",
   "execution_count": 9,
   "metadata": {
    "colab": {
     "base_uri": "https://localhost:8080/"
    },
    "executionInfo": {
     "elapsed": 5456,
     "status": "ok",
     "timestamp": 1705310991193,
     "user": {
      "displayName": "Murilo Boratto",
      "userId": "13998345321799991370"
     },
     "user_tz": -60
    },
    "id": "TCAWmPrRYc6W",
    "outputId": "12376618-96b5-4653-b4d3-c6b9ca07dc9d",
    "tags": []
   },
   "outputs": [
    {
     "name": "stdout",
     "output_type": "stream",
     "text": [
      "10000\t0.870519\n"
     ]
    }
   ],
   "source": [
    "!./mm 10000 64"
   ]
  },
  {
   "cell_type": "markdown",
   "metadata": {
    "id": "edaoNwRFeJK9"
   },
   "source": [
    "### Grid Strider Loop"
   ]
  },
  {
   "cell_type": "code",
   "execution_count": 4,
   "metadata": {},
   "outputs": [
    {
     "data": {
      "text/html": [
       "\n",
       "<div align=\"center\">\n",
       "<iframe src=\"https://docs.google.com/presentation/d/1tRO-HwqCfv8imhDO4S_8yAv8wEcJVttZ/edit?usp=sharing&ouid=117965215426975519312&rtpof=true&sd=true\" frameborder=\"0\" width=\"900\" height=\"550\" allowfullscreen=\"true\" mozallowfullscreen=\"true\" webkitallowfullscreen=\"true\">\n",
       " \n",
       "</iframe></div>\n"
      ],
      "text/plain": [
       "<IPython.core.display.HTML object>"
      ]
     },
     "metadata": {},
     "output_type": "display_data"
    }
   ],
   "source": [
    "%%HTML\n",
    "\n",
    "<div align=\"center\">\n",
    "<iframe src=\"https://docs.google.com/presentation/d/1tRO-HwqCfv8imhDO4S_8yAv8wEcJVttZ/edit?usp=sharing&ouid=117965215426975519312&rtpof=true&sd=true\" frameborder=\"0\" width=\"900\" height=\"550\" allowfullscreen=\"true\" mozallowfullscreen=\"true\" webkitallowfullscreen=\"true\">\n",
    " \n",
    "</iframe></div>"
   ]
  },
  {
   "cell_type": "code",
   "execution_count": 10,
   "metadata": {
    "colab": {
     "base_uri": "https://localhost:8080/"
    },
    "executionInfo": {
     "elapsed": 329,
     "status": "ok",
     "timestamp": 1705311403987,
     "user": {
      "displayName": "Murilo Boratto",
      "userId": "13998345321799991370"
     },
     "user_tz": -60
    },
    "id": "MZpA7sUlLVgZ",
    "outputId": "2905fc29-f29e-4fc2-f12d-f192281d1b43",
    "tags": []
   },
   "outputs": [
    {
     "name": "stdout",
     "output_type": "stream",
     "text": [
      "Writing mm-gridStriderLoop.cu\n"
     ]
    }
   ],
   "source": [
    "%%writefile mm-gridStriderLoop.cu\n",
    "#include <cuda.h>\n",
    "#include <stdio.h>\n",
    "#include <stdlib.h>\n",
    "#include <omp.h>\n",
    "\n",
    "__global__ void kernel(int *A, int *B, int *C, int size)\n",
    "{\n",
    "  int i = blockIdx.x * blockDim.x + threadIdx.x;\n",
    "  int j = blockIdx.y * blockDim.y + threadIdx.y;\n",
    "\n",
    "  if((i < size) && (j < size))\n",
    "    for(int k = 0; k < size; k++)\n",
    "       C[i * size + j] += A[i * size + k] * B[k * size + j];\n",
    "\n",
    "}\n",
    "\n",
    "__global__ void kernelGridStriderLoop(int *A, int *B, int *C, int n)\n",
    "{\n",
    "  int idx = blockIdx.x * blockDim.x + threadIdx.x;\n",
    "  int idy = blockIdx.y * blockDim.y + threadIdx.y;\n",
    "  int stride = gridDim.x * blockDim.x;\n",
    "  int i, j, k;\n",
    "\n",
    "  for(i = idx; i < n; i += stride)\n",
    "    for(j = idy; j < n; j += stride)\n",
    "    {\n",
    "       for(k = 0; k < n; k++)\n",
    "            C[i*n+j] += A[i*n+k] * B[k*n+j];\n",
    "    }\n",
    "\n",
    "}\n",
    "\n",
    "void initializeMatrix(int *A, int size)\n",
    "{\n",
    "  for(int i = 0; i < size; i++)\n",
    "    for(int j = 0; j < size; j++)\n",
    "      A[i * size + j] = rand() % (10 - 1) * 1;\n",
    "}\n",
    "\n",
    "void printMatrix(int *A, int size)\n",
    "{\n",
    "  for(int i = 0; i < size; i++){\n",
    "    for(int j = 0; j < size; j++)\n",
    "      printf(\"%d\\t\", A[i * size + j]);\n",
    "    printf(\"\\n\");\n",
    "  }\n",
    "  printf(\"\\n\");\n",
    "}\n",
    "\n",
    "int main(int argc, char **argv)\n",
    "{\n",
    "  if (argc < 3)\n",
    "  {\n",
    "    printf(\"%s [SIZE] [BLOCKSIZE]\\n\", argv[0]);\n",
    "    exit(-1);\n",
    "  }\n",
    "\n",
    "  int n = atoi(argv[1]);\n",
    "  int blockSize = atoi(argv[2]);\n",
    "  double t1, t2;\n",
    "\n",
    " //Memory Allocation in the Host\n",
    "  int  *A = (int *) malloc (sizeof(int)*n*n);\n",
    "  int  *B = (int *) malloc (sizeof(int)*n*n);\n",
    "  int  *C = (int *) malloc (sizeof(int)*n*n);\n",
    "\n",
    "  initializeMatrix(A, n);\n",
    "  initializeMatrix(B, n);\n",
    "\n",
    " //printMatrix(A, n);\n",
    " //printMatrix(B, n);\n",
    " //printMatrix(C, n);\n",
    "\n",
    " // Memory Allocation in the Device\n",
    "  int *d_A, *d_B, *d_C;\n",
    "  cudaMalloc((void **) &d_A, n * n * sizeof(int) ) ;\n",
    "  cudaMalloc((void **) &d_B, n * n * sizeof(int) ) ;\n",
    "  cudaMalloc((void **) &d_C, n * n * sizeof(int) ) ;\n",
    "\n",
    "  t1 = omp_get_wtime();\n",
    "\n",
    " // Copy of data from host to device\n",
    "  cudaMemcpy( d_A, A, n * n * sizeof(int), cudaMemcpyHostToDevice ) ;\n",
    "  cudaMemcpy( d_B, B, n * n * sizeof(int), cudaMemcpyHostToDevice ) ;\n",
    "  cudaMemcpy( d_C, C, n * n * sizeof(int), cudaMemcpyHostToDevice ) ;\n",
    "\n",
    " // 2D Computational Grid\n",
    "  dim3 dimGrid( (int) ceil( (float) n / (float) blockSize ), (int) ceil( (float) n / (float) blockSize ) );\n",
    "  dim3 dimBlock( blockSize, blockSize);\n",
    "\n",
    "            kernelGridStriderLoop<<<dimGrid, dimBlock>>>(A, B, C, n);\n",
    "\n",
    " // Copy of data from device to host\n",
    "  cudaMemcpy( C, d_C, n * n * sizeof(float), cudaMemcpyDeviceToHost ) ;\n",
    "\n",
    "  t2 = omp_get_wtime();\n",
    "\n",
    "  printf(\"%d\\t%f\\n\", n, t2-t1);\n",
    "\n",
    " //printMatrix(A, n);\n",
    " //printMatrix(B, n);\n",
    " //printMatrix(C, n);\n",
    "\n",
    "// Memory Allocation in the Device\n",
    " cudaFree(d_A) ;\n",
    " cudaFree(d_B) ;\n",
    " cudaFree(d_C) ;\n",
    "\n",
    "// Memory Allocation in the Host\n",
    " free(A);\n",
    " free(B);\n",
    " free(C);\n",
    "\n",
    " return 0;\n",
    "}"
   ]
  },
  {
   "cell_type": "code",
   "execution_count": 11,
   "metadata": {
    "executionInfo": {
     "elapsed": 1744,
     "status": "ok",
     "timestamp": 1705311411869,
     "user": {
      "displayName": "Murilo Boratto",
      "userId": "13998345321799991370"
     },
     "user_tz": -60
    },
    "id": "W6r-gx0_Ld2G",
    "tags": []
   },
   "outputs": [],
   "source": [
    "!nvcc mm-gridStriderLoop.cu -o mm-gridStriderLoop -Xcompiler -fopenmp -O3"
   ]
  },
  {
   "cell_type": "code",
   "execution_count": 12,
   "metadata": {
    "colab": {
     "base_uri": "https://localhost:8080/"
    },
    "executionInfo": {
     "elapsed": 5428,
     "status": "ok",
     "timestamp": 1705311424976,
     "user": {
      "displayName": "Murilo Boratto",
      "userId": "13998345321799991370"
     },
     "user_tz": -60
    },
    "id": "RL9LL2OmLhvM",
    "outputId": "452c115e-05eb-4100-8303-3e22d79d1873",
    "tags": []
   },
   "outputs": [
    {
     "name": "stdout",
     "output_type": "stream",
     "text": [
      "10000\t0.779759\n"
     ]
    }
   ],
   "source": [
    "!./mm-gridStriderLoop 10000 64"
   ]
  },
  {
   "cell_type": "markdown",
   "metadata": {
    "id": "rFTvpmQBeJK-"
   },
   "source": [
    "### cudaMallocManaged"
   ]
  },
  {
   "cell_type": "code",
   "execution_count": 5,
   "metadata": {},
   "outputs": [
    {
     "data": {
      "text/html": [
       "\n",
       "<div align=\"center\">\n",
       "<iframe src=\"https://docs.google.com/presentation/d/1ui1b_fEY8NsG8fffNmUJ2HbWyu_r1xOz/edit?usp=sharing&ouid=117965215426975519312&rtpof=true&sd=true\" frameborder=\"0\" width=\"900\" height=\"550\" allowfullscreen=\"true\" mozallowfullscreen=\"true\" webkitallowfullscreen=\"true\">\n",
       " \n",
       "</iframe></div>\n"
      ],
      "text/plain": [
       "<IPython.core.display.HTML object>"
      ]
     },
     "metadata": {},
     "output_type": "display_data"
    }
   ],
   "source": [
    "%%HTML\n",
    "\n",
    "<div align=\"center\">\n",
    "<iframe src=\"https://docs.google.com/presentation/d/1ui1b_fEY8NsG8fffNmUJ2HbWyu_r1xOz/edit?usp=sharing&ouid=117965215426975519312&rtpof=true&sd=true\" frameborder=\"0\" width=\"900\" height=\"550\" allowfullscreen=\"true\" mozallowfullscreen=\"true\" webkitallowfullscreen=\"true\">\n",
    " \n",
    "</iframe></div>"
   ]
  },
  {
   "cell_type": "code",
   "execution_count": 31,
   "metadata": {
    "colab": {
     "base_uri": "https://localhost:8080/"
    },
    "executionInfo": {
     "elapsed": 631,
     "status": "ok",
     "timestamp": 1705312417022,
     "user": {
      "displayName": "Murilo Boratto",
      "userId": "13998345321799991370"
     },
     "user_tz": -60
    },
    "id": "1B3TRZ5CeJK_",
    "outputId": "5c3547b9-3d2e-4791-dab9-81328bab3f15",
    "tags": []
   },
   "outputs": [
    {
     "name": "stdout",
     "output_type": "stream",
     "text": [
      "Overwriting mm-cudaMallocManaged.cu\n"
     ]
    }
   ],
   "source": [
    "%%writefile mm-cudaMallocManaged.cu\n",
    "#include <cuda.h>\n",
    "#include <stdio.h>\n",
    "#include <stdlib.h>\n",
    "#include <omp.h>\n",
    "\n",
    "__global__ void kernel(int *A, int *B, int *C, int size)\n",
    "{\n",
    "  int i = blockIdx.x * blockDim.x + threadIdx.x;\n",
    "  int j = blockIdx.y * blockDim.y + threadIdx.y;\n",
    "\n",
    "  if((i < size) && (j < size))\n",
    "     for(int k = 0; k < size; k++)\n",
    "        C[i * size + j] += A[i * size + k] * B[k * size + j];\n",
    "\n",
    "}\n",
    "\n",
    "__global__ void kernelGridStriderLoop(int *A, int *B, int *C, int n)\n",
    "{\n",
    "  int idx = blockIdx.x * blockDim.x + threadIdx.x;\n",
    "  int idy = blockIdx.y * blockDim.y + threadIdx.y;\n",
    "  int stride = gridDim.x * blockDim.x;\n",
    "  int i, j, k;\n",
    "\n",
    "  for(i = idx; i < n; i += stride)\n",
    "    for(j = idy; j < n; j += stride)\n",
    "    {\n",
    "       for(k = 0; k < n; k++)\n",
    "            C[i*n+j] += A[i*n+k] * B[k*n+j];\n",
    "    }\n",
    "\n",
    "}\n",
    "\n",
    "void initializeMatrix(int *A, int size)\n",
    "{\n",
    "  for(int i = 0; i < size; i++)\n",
    "    for(int j = 0; j < size; j++)\n",
    "      A[i * size + j] = rand() % (10 - 1) * 1;\n",
    "}\n",
    "\n",
    "void printMatrix(int *A, int size)\n",
    "{\n",
    "  for(int i = 0; i < size; i++){\n",
    "    for(int j = 0; j < size; j++)\n",
    "      printf(\"%d\\t\", A[i * size + j]);\n",
    "    printf(\"\\n\");\n",
    "  }\n",
    "  printf(\"\\n\");\n",
    "}\n",
    "\n",
    "int main(int argc, char **argv)\n",
    "{\n",
    " /*Usage*/\n",
    " if (argc < 3) {\n",
    "   printf(\"%s [SIZE] [BLOCKSIZE]\\n\", argv[0]);\n",
    "   exit(-1);\n",
    " }\n",
    "\n",
    " int n = atoi(argv[1]);\n",
    " int blockSize = atoi(argv[2]); ;\n",
    " double t1, t2;\n",
    " int *A,  *B,  *C;\n",
    "\n",
    " cudaMallocManaged(&A, sizeof(int) * n * n);\n",
    " cudaMallocManaged(&B, sizeof(int) * n * n);\n",
    " cudaMallocManaged(&C, sizeof(int) * n * n);\n",
    "\n",
    " initializeMatrix(A, n);\n",
    " initializeMatrix(B, n);\n",
    "\n",
    " //printMatrix(A, n);\n",
    " //printMatrix(B, n);\n",
    " //printMatrix(C, n);\n",
    "\n",
    "t1 = omp_get_wtime();\n",
    "\n",
    " dim3 dimGrid( (int) ceil( (float) n / (float) blockSize ), (int) ceil( (float) n / (float) blockSize ) );\n",
    " dim3 dimBlock( blockSize, blockSize);\n",
    "\n",
    "      kernelGridStriderLoop<<<dimGrid, dimBlock>>>(A, B, C, n);\n",
    "      cudaDeviceSynchronize();\n",
    "\n",
    "t2 = omp_get_wtime();\n",
    "\n",
    "printf(\"%d\\t%f\\n\", n, t2-t1);\n",
    "\n",
    "//printMatrix(A, n);\n",
    "//printMatrix(B, n);\n",
    "//printMatrix(C, n);\n",
    "\n",
    "cudaFree(A);\n",
    "cudaFree(B);\n",
    "cudaFree(C);\n",
    "\n",
    "return 0;\n",
    "}\n"
   ]
  },
  {
   "cell_type": "code",
   "execution_count": 24,
   "metadata": {
    "executionInfo": {
     "elapsed": 1951,
     "status": "ok",
     "timestamp": 1705312055957,
     "user": {
      "displayName": "Murilo Boratto",
      "userId": "13998345321799991370"
     },
     "user_tz": -60
    },
    "id": "inrnf5OpeJK_",
    "tags": []
   },
   "outputs": [],
   "source": [
    "!nvcc mm-cudaMallocManaged.cu -o mm-cudaMallocManaged -Xcompiler -fopenmp -O3"
   ]
  },
  {
   "cell_type": "code",
   "execution_count": 25,
   "metadata": {
    "colab": {
     "base_uri": "https://localhost:8080/"
    },
    "executionInfo": {
     "elapsed": 3893,
     "status": "ok",
     "timestamp": 1705312061692,
     "user": {
      "displayName": "Murilo Boratto",
      "userId": "13998345321799991370"
     },
     "user_tz": -60
    },
    "id": "qfwoEnWKeJK_",
    "outputId": "d351226b-a429-4fdf-f498-ae20f22627e6",
    "tags": []
   },
   "outputs": [
    {
     "name": "stdout",
     "output_type": "stream",
     "text": [
      "10000\t0.081976\n"
     ]
    }
   ],
   "source": [
    "!./mm-cudaMallocManaged 10000 64"
   ]
  },
  {
   "cell_type": "markdown",
   "metadata": {
    "id": "dYP1lJrZok32"
   },
   "source": [
    "#### Stream Multiprocessador"
   ]
  },
  {
   "cell_type": "code",
   "execution_count": 6,
   "metadata": {},
   "outputs": [
    {
     "data": {
      "text/html": [
       "\n",
       "<div align=\"center\">\n",
       "<iframe src=\"https://docs.google.com/presentation/d/18z3x55kxCCjGZ3LVKOtSN5q8qXe4swFL/edit?usp=sharing&ouid=117965215426975519312&rtpof=true&sd=true\" frameborder=\"0\" width=\"900\" height=\"550\" allowfullscreen=\"true\" mozallowfullscreen=\"true\" webkitallowfullscreen=\"true\">\n",
       " \n",
       "</iframe></div>\n"
      ],
      "text/plain": [
       "<IPython.core.display.HTML object>"
      ]
     },
     "metadata": {},
     "output_type": "display_data"
    }
   ],
   "source": [
    "%%HTML\n",
    "\n",
    "<div align=\"center\">\n",
    "<iframe src=\"https://docs.google.com/presentation/d/18z3x55kxCCjGZ3LVKOtSN5q8qXe4swFL/edit?usp=sharing&ouid=117965215426975519312&rtpof=true&sd=true\" frameborder=\"0\" width=\"900\" height=\"550\" allowfullscreen=\"true\" mozallowfullscreen=\"true\" webkitallowfullscreen=\"true\">\n",
    " \n",
    "</iframe></div>"
   ]
  },
  {
   "cell_type": "code",
   "execution_count": 28,
   "metadata": {
    "colab": {
     "base_uri": "https://localhost:8080/"
    },
    "executionInfo": {
     "elapsed": 512,
     "status": "ok",
     "timestamp": 1705312312987,
     "user": {
      "displayName": "Murilo Boratto",
      "userId": "13998345321799991370"
     },
     "user_tz": -60
    },
    "id": "IH8IX1MAok33",
    "outputId": "81eaf784-5de3-4b22-f837-907a21008bad",
    "tags": []
   },
   "outputs": [
    {
     "name": "stdout",
     "output_type": "stream",
     "text": [
      "Overwriting mm-streamMultiprocessador.cu\n"
     ]
    }
   ],
   "source": [
    "%%writefile mm-streamMultiprocessador.cu\n",
    "#include <cuda.h>\n",
    "#include <stdio.h>\n",
    "#include <stdlib.h>\n",
    "#include <omp.h>\n",
    "\n",
    "__global__ void kernelGridStriderLoop(int *A, int *B,  int *C, int n)\n",
    "{\n",
    "  int idx = blockIdx.x * blockDim.x + threadIdx.x;\n",
    "  int idy = blockIdx.y * blockDim.y + threadIdx.y;\n",
    "  int stride = gridDim.x * blockDim.x;\n",
    "  int i, j, k;\n",
    "\n",
    "  for(i = idx; i < n; i += stride)\n",
    "    for(j = idy; j < n; j += stride)\n",
    "    {\n",
    "       for(k = 0; k < n; k++)\n",
    "         C[i*n+j] += A[i*n+k] * B[k*n+j];\n",
    "    }\n",
    "\n",
    "}\n",
    "\n",
    "void initializeMatrix(int *A, int size)\n",
    "{\n",
    "  for(int i = 0; i < size; i++)\n",
    "    for(int j = 0; j < size; j++)\n",
    "      A[i * size + j] = rand() % (10 - 1) * 1;\n",
    "}\n",
    "\n",
    "void printMatrix(int *A, int size)\n",
    "{\n",
    "  for(int i = 0; i < size; i++){\n",
    "    for(int j = 0; j < size; j++)\n",
    "      printf(\"%d\\t\", A[i * size + j]);\n",
    "    printf(\"\\n\");\n",
    "  }\n",
    "  printf(\"\\n\");\n",
    "}\n",
    "\n",
    "int main (int argc, char **argv)\n",
    "{\n",
    " /*Usage*/\n",
    " if (argc < 3) {\n",
    "   printf(\"%s [SIZE] [BLOCKSIZE]\\n\", argv[0]);\n",
    "   exit(-1);\n",
    " }\n",
    "\n",
    " int n = atoi(argv[1]);\n",
    " int sizeblock = atoi(argv[2]); ;\n",
    " double t1, t2;\n",
    " int *A,  *B, *C;\n",
    "\n",
    " cudaMallocManaged(&A, sizeof(int) * n * n);\n",
    " cudaMallocManaged(&B, sizeof(int) * n * n);\n",
    " cudaMallocManaged(&C, sizeof(int) * n * n);\n",
    "\n",
    " initializeMatrix(A, n);\n",
    " initializeMatrix(B, n);\n",
    "\n",
    " //printMatrix(A, n);\n",
    " //printMatrix(B, n);\n",
    " //printMatrix(C, n);\n",
    "\n",
    "t1 = omp_get_wtime();\n",
    "\n",
    " int deviceId, numberOfSMs;\n",
    " cudaGetDevice(&deviceId);\n",
    " cudaDeviceGetAttribute(&numberOfSMs, cudaDevAttrMultiProcessorCount, deviceId);\n",
    "\n",
    " int NUMBER_OF_BLOCKS = numberOfSMs * 32;\n",
    " int NUMBER_OF_THREADS = 1024;\n",
    "\n",
    "      kernelGridStriderLoop<<< NUMBER_OF_BLOCKS, NUMBER_OF_THREADS>>>(A, B, C, n);\n",
    "      cudaDeviceSynchronize();\n",
    "\n",
    " t2 = omp_get_wtime();\n",
    "\n",
    " printf(\"%d\\t%f\\n\", n, t2-t1);\n",
    "\n",
    "//printMatrix(A, n);\n",
    "//printMatrix(B, n);\n",
    "//printMatrix(C, n);\n",
    "\n",
    "cudaFree(A);\n",
    "cudaFree(B);\n",
    "cudaFree(C);\n",
    "\n",
    "return 0;\n",
    "}\n"
   ]
  },
  {
   "cell_type": "code",
   "execution_count": 29,
   "metadata": {
    "executionInfo": {
     "elapsed": 1644,
     "status": "ok",
     "timestamp": 1705312318618,
     "user": {
      "displayName": "Murilo Boratto",
      "userId": "13998345321799991370"
     },
     "user_tz": -60
    },
    "id": "jXKV9XKZok33",
    "tags": []
   },
   "outputs": [],
   "source": [
    "!nvcc mm-streamMultiprocessador.cu -o mm-streamMultiprocessador -Xcompiler -fopenmp -O3"
   ]
  },
  {
   "cell_type": "code",
   "execution_count": 30,
   "metadata": {
    "colab": {
     "base_uri": "https://localhost:8080/"
    },
    "executionInfo": {
     "elapsed": 4869,
     "status": "ok",
     "timestamp": 1705312330801,
     "user": {
      "displayName": "Murilo Boratto",
      "userId": "13998345321799991370"
     },
     "user_tz": -60
    },
    "id": "JAg-VF-qok33",
    "outputId": "f2f25ad1-5a77-4bd9-84ed-558ae1950d25",
    "tags": []
   },
   "outputs": [
    {
     "name": "stdout",
     "output_type": "stream",
     "text": [
      "10000\t0.238641\n"
     ]
    }
   ],
   "source": [
    "!./mm-streamMultiprocessador 10000 64"
   ]
  }
 ],
 "metadata": {
  "accelerator": "GPU",
  "colab": {
   "gpuType": "V100",
   "provenance": [
    {
     "file_id": "1ZkyYkRzX6g3uldQhU-bgMF5jzn1k3C7J",
     "timestamp": 1705310081089
    },
    {
     "file_id": "19ofstzfOeJlZYKFSrJk6seqe2oJWv1xS",
     "timestamp": 1698257221671
    },
    {
     "file_id": "1OhujvtZ8HLCXG4JU56I72vBJlfqYb9Kk",
     "timestamp": 1694022921959
    },
    {
     "file_id": "1e_lXiysoxz98IAygtljP-0xTOO6FaYV4",
     "timestamp": 1692812241795
    },
    {
     "file_id": "https://github.com/muriloboratto/programacao-jogos-digitais/blob/master/JD0007/notebooks/01-Entradas-Saidas.ipynb",
     "timestamp": 1678191303998
    }
   ]
  },
  "kernelspec": {
   "display_name": "Python 3 (ipykernel)",
   "language": "python",
   "name": "python3"
  },
  "language_info": {
   "codemirror_mode": {
    "name": "ipython",
    "version": 3
   },
   "file_extension": ".py",
   "mimetype": "text/x-python",
   "name": "python",
   "nbconvert_exporter": "python",
   "pygments_lexer": "ipython3",
   "version": "3.8.8"
  }
 },
 "nbformat": 4,
 "nbformat_minor": 4
}
