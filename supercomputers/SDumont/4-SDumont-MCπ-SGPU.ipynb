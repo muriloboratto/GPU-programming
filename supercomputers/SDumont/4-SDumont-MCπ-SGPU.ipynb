{
 "cells": [
  {
   "cell_type": "markdown",
   "metadata": {},
   "source": [
    "# Case Study: Monte Carlo Approximation of $\\pi$ - Single GPU"
   ]
  },
  {
   "cell_type": "markdown",
   "metadata": {},
   "source": [
    "We will be using the highly parallelizable [monte carlo approximation of $\\pi$](https://en.wikipedia.org/wiki/Approximations_of_%CF%80#Summing_a_circle's_area) algorithm to introduce several multi-GPU programming motifs. In this notebook we will introduce the algorithm, and begin our exploration by running it on a single GPU."
   ]
  },
  {
   "cell_type": "markdown",
   "metadata": {},
   "source": [
    "## Objectives"
   ]
  },
  {
   "cell_type": "markdown",
   "metadata": {},
   "source": [
    "By the time you complete this notebook you will:"
   ]
  },
  {
   "cell_type": "markdown",
   "metadata": {},
   "source": [
    "- Understand the key features of the monte carlo approximation of $\\pi$ algorithm.\n",
    "- Be familiar with a single GPU CUDA implementation of the algorithm upon which to explore several multi-GPU implementations."
   ]
  },
  {
   "cell_type": "markdown",
   "metadata": {},
   "source": [
    "## The Algorithm at a High Level"
   ]
  },
  {
   "cell_type": "markdown",
   "metadata": {},
   "source": [
    "A [well-known technique](https://en.wikipedia.org/wiki/Approximations_of_%CF%80#Summing_a_circle's_area) for numerically estimating $\\pi$ is to select a large number of random points within the [unit square](https://en.wikipedia.org/wiki/Unit_square) and count the fraction that fall within the [unit circle](https://en.wikipedia.org/wiki/Unit_circle). Since the area of the square is 1 and the area of the circle is $\\pi / 4$, the fraction of points that fall in the circle, multiplied by 4, is a good approximation of $\\pi$."
   ]
  },
  {
   "cell_type": "markdown",
   "metadata": {},
   "source": [
    "<center><img src=\"https://upload.wikimedia.org/wikipedia/commons/8/84/Pi_30K.gif\" width=\"600\">\n",
    "\n",
    "© [User:nicoguaro](https://commons.wikimedia.org/wiki/User:Nicoguaro) / [Wikimedia Commons](https://commons.wikimedia.org/wiki/Main_Page) / [CC-BY-3.0](https://creativecommons.org/licenses/by/3.0/deed.en)\n",
    "</center>"
   ]
  },
  {
   "cell_type": "markdown",
   "metadata": {},
   "source": [
    "## Highly Parallelizable"
   ]
  },
  {
   "cell_type": "markdown",
   "metadata": {},
   "source": [
    "A nice property of this algorithm from the perspective of parallel programming is that each random point can be evaluated independently. We only need to know a point's coordinate to evaluate whether it falls within the circle since for a point with coordinates $(x, y)$, if $x^2 + y^2 <= 1$ then the point falls within the circle, and our counter of the number of points within the circle can be incremented, so long as we handle any race conditions with respect to the counter."
   ]
  },
  {
   "cell_type": "markdown",
   "metadata": {},
   "source": [
    "## A Single GPU Implementation"
   ]
  },
  {
   "cell_type": "markdown",
   "metadata": {},
   "source": [
    "Let is see how this looks in CUDA for a single GPU. We have provided a sample implementation; Execute the `monte_carlo_cuda.cu` and review the parts of this code:"
   ]
  },
  {
   "cell_type": "code",
   "execution_count": null,
   "metadata": {},
   "outputs": [],
   "source": [
    "%%writefile monte_carlo_pi_cuda.cu\n",
    "#include <iostream>\n",
    "#include <curand_kernel.h>\n",
    "#define N 1024*1024\n",
    "\n",
    "__global__ void calculate_pi(int* hits) \n",
    "{\n",
    "    int idx = threadIdx.x + blockIdx.x * blockDim.x;\n",
    "\n",
    "    // Initialize random number state (unique for every thread in the grid)\n",
    "    int seed = 0;\n",
    "    int offset = 0;\n",
    "    curandState_t curand_state;\n",
    "    curand_init(seed, idx, offset, &curand_state);\n",
    "\n",
    "    // Generate random coordinates within (0.0, 1.0)\n",
    "    float x = curand_uniform(&curand_state);\n",
    "    float y = curand_uniform(&curand_state);\n",
    "\n",
    "    // Increment hits counter if this point is inside the circle\n",
    "    if (x * x + y * y <= 1.0f) \n",
    "        atomicAdd(hits, 1);    \n",
    "}\n",
    "\n",
    "int main(int argc, char** argv) \n",
    "{\n",
    "    // Allocate host and device values\n",
    "    int* hits;\n",
    "    hits = (int*) malloc(sizeof(int));\n",
    "\n",
    "    int* d_hits;\n",
    "    cudaMalloc((void**) &d_hits, sizeof(int));\n",
    "\n",
    "    // Initialize number of hits and copy to device\n",
    "    *hits = 0;\n",
    "    cudaMemcpy(d_hits, hits, sizeof(int), cudaMemcpyHostToDevice);\n",
    "\n",
    "    // Launch kernel to do the calculation\n",
    "    int threads_per_block = 256;\n",
    "    int blocks = (N + threads_per_block - 1) / threads_per_block;\n",
    "\n",
    "    calculate_pi<<<blocks, threads_per_block>>>(d_hits);\n",
    "    cudaDeviceSynchronize();\n",
    "\n",
    "    // Copy final result back to the host\n",
    "    cudaMemcpy(hits, d_hits, sizeof(int), cudaMemcpyDeviceToHost);\n",
    "\n",
    "    // Calculate final value of pi\n",
    "    float pi_est = (float) *hits / (float) (N) * 4.0f;\n",
    "\n",
    "    // Print out result\n",
    "    std::cout << \"Estimated value of pi = \" << pi_est << std::endl;\n",
    "    std::cout << \"Error = \" << std::abs((M_PI - pi_est) / pi_est) << std::endl;\n",
    "\n",
    "    // Clean up\n",
    "    free(hits);\n",
    "    cudaFree(d_hits);\n",
    "\n",
    "    return 0;\n",
    "}"
   ]
  },
  {
   "cell_type": "markdown",
   "metadata": {},
   "source": [
    "Note that this code is just meant for instructional purposes, it is not meant to be especially high performance. In particular:\n",
    "\n",
    "- We are using the [device-side API](https://docs.nvidia.com/cuda/curand/device-api-overview.html) of [cuRAND](https://developer.nvidia.com/curand) to generate random numbers directly in the kernel. It is OK if you are unfamiliar with cuRAND, just know that every CUDA thread will have its own unique random numbers.\n",
    "- We are having every thread only evaluate a single value, so the arithmetic intensity is quite low.\n",
    "- We will have a lot of atomic collisions while updating the `hits` counter.\n",
    "\n",
    "Nevertheless, we can quickly estimate   $\\pi$   using one million sample points and we should get an error compared to the correct value of only about 0.05%."
   ]
  },
  {
   "cell_type": "markdown",
   "metadata": {},
   "source": [
    "#### Run the Code"
   ]
  },
  {
   "cell_type": "markdown",
   "metadata": {},
   "source": [
    "##### Compile with Shell Script"
   ]
  },
  {
   "cell_type": "code",
   "execution_count": null,
   "metadata": {},
   "outputs": [],
   "source": [
    "%%writefile howtocompile.sh\n",
    "#!/bin/bash\n",
    "\n",
    "usage()\n",
    "{\n",
    " echo \"howtocompile.sh: wrong number of input parameters. Exiting.\"\n",
    " echo -e \"Usage: bash howtocompile.sh <supercomputer>\"\n",
    " echo -e \"  g.e: bash howtocompile.sh sdumont\"\n",
    "}\n",
    "\n",
    "sdumont()\n",
    "{\n",
    " module load openmpi/gnu/4.1.4+cuda-11.2\n",
    " nvcc monte_carlo_pi_cuda.cu -o monte_carlo_pi_cuda $CPPFLAGS $LDFLAGS\n",
    "}\n",
    "\n",
    "#args in comand line\n",
    "if [ \"$#\" ==  0 ]; then\n",
    " usage\n",
    " exit\n",
    "fi\n",
    "\n",
    "#sdumont\n",
    "if [[ $1 == \"sdumont\" ]];then\n",
    " sdumont\n",
    "fi"
   ]
  },
  {
   "cell_type": "code",
   "execution_count": null,
   "metadata": {},
   "outputs": [],
   "source": [
    "!bash howtocompile.sh sdumont"
   ]
  },
  {
   "cell_type": "markdown",
   "metadata": {},
   "source": [
    "##### Execute with Shell Script"
   ]
  },
  {
   "cell_type": "code",
   "execution_count": null,
   "metadata": {},
   "outputs": [],
   "source": [
    "%%writefile v100-MonteCarlo1GPU.sh\n",
    "#!/bin/bash\n",
    "\n",
    "#SBATCH --job-name=MonteCarlo1GPU               # Job name\n",
    "#SBATCH --nodes=1                               # Run on 1 node  \n",
    "#SBATCH --partition=sequana_gpu_dev             # Partition SDUMONT\n",
    "#SBATCH --output=out_v100_%j-MonteCarlo1GPU.log # Standard output and error log\n",
    "#SBATCH --ntasks-per-node=1                     # 1 job per node\n",
    "\n",
    "module load openmpi/gnu/4.1.4+cuda-11.2\n",
    "./monte_carlo_pi_cuda"
   ]
  },
  {
   "cell_type": "code",
   "execution_count": null,
   "metadata": {},
   "outputs": [],
   "source": [
    "%%writefile howtoexecute.sh\n",
    "#!/bin/bash\n",
    "\n",
    "usage()\n",
    "{\n",
    " echo \"howtoexecute.sh: wrong number of input parameters. Exiting.\"\n",
    " echo -e \"Usage: bash howtoexecute.sh <supercomputer>\"\n",
    " echo -e \"  g.e: bash howtoexecute.sh sdumont\"\n",
    "}\n",
    "\n",
    "sdumont()\n",
    "{\n",
    " sbatch v100-MonteCarlo1GPU.sh\n",
    "}\n",
    "\n",
    "#args in comand line\n",
    "if [ \"$#\" ==  0 ]; then\n",
    " usage\n",
    " exit\n",
    "fi\n",
    "\n",
    "#sdumont\n",
    "if [[ $1 == \"sdumont\" ]];then\n",
    " sdumont\n",
    "fi"
   ]
  },
  {
   "cell_type": "code",
   "execution_count": null,
   "metadata": {},
   "outputs": [],
   "source": [
    "!bash howtoexecute.sh sdumont"
   ]
  },
  {
   "cell_type": "markdown",
   "metadata": {},
   "source": [
    "#### Print output in log file"
   ]
  },
  {
   "cell_type": "code",
   "execution_count": null,
   "metadata": {},
   "outputs": [],
   "source": [
    "!cat *-MonteCarlo1GPU.log"
   ]
  },
  {
   "cell_type": "markdown",
   "metadata": {},
   "source": [
    "## Clear the Memory"
   ]
  },
  {
   "cell_type": "markdown",
   "metadata": {},
   "source": [
    "Before moving on, please execute the following cell to clear up the CPU memory. This is required to move on to the next notebook."
   ]
  },
  {
   "cell_type": "code",
   "execution_count": null,
   "metadata": {},
   "outputs": [],
   "source": [
    "import IPython\n",
    "app = IPython.Application.instance()\n",
    "app.kernel.do_shutdown(True)"
   ]
  },
  {
   "cell_type": "markdown",
   "metadata": {},
   "source": [
    "## Next"
   ]
  },
  {
   "cell_type": "markdown",
   "metadata": {},
   "source": [
    "Please continue to the next notebook: [_5-SDumont-MCπ-MGPU.ipynb_](5-SDumont-MCπ-MGPU.ipynb)."
   ]
  }
 ],
 "metadata": {
  "kernelspec": {
   "display_name": "Python 3 (ipykernel)",
   "language": "python",
   "name": "python3"
  },
  "language_info": {
   "codemirror_mode": {
    "name": "ipython",
    "version": 3
   },
   "file_extension": ".py",
   "mimetype": "text/x-python",
   "name": "python",
   "nbconvert_exporter": "python",
   "pygments_lexer": "ipython3",
   "version": "3.8.8"
  }
 },
 "nbformat": 4,
 "nbformat_minor": 4
}
